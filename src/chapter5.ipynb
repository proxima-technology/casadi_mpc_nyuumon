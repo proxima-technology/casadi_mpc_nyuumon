{
 "cells": [
  {
   "cell_type": "code",
   "execution_count": 1,
   "metadata": {},
   "outputs": [
    {
     "name": "stdout",
     "output_type": "stream",
     "text": [
      "casadi.__version__ 3.6.7\n"
     ]
    }
   ],
   "source": [
    "!pip install casadi\n",
    "from IPython.display import clear_output\n",
    "import os\n",
    "\n",
    "import numpy as np\n",
    "import casadi\n",
    "import matplotlib.pyplot as plt\n",
    "import matplotlib.patches as patches\n",
    "from matplotlib.animation import FuncAnimation\n",
    "\n",
    "os.makedirs('images',exist_ok=True)\n",
    "if os.name == 'nt':\n",
    "    plt.rcParams['font.family'] = 'MS Gothic'\n",
    "elif os.name == 'posix':\n",
    "    !pip install japanize-matplotlib\n",
    "\n",
    "\n",
    "clear_output()\n",
    "print(\"casadi.__version__\",casadi.__version__)"
   ]
  },
  {
   "cell_type": "markdown",
   "metadata": {},
   "source": [
    "# 定数"
   ]
  },
  {
   "cell_type": "code",
   "execution_count": 2,
   "metadata": {},
   "outputs": [],
   "source": [
    "# 倒立振子のパラメータ\n",
    "g = 9.81 #重力加速度\n",
    "M = 1 #台車の質量\n",
    "m = 0.2 #振子の質量\n",
    "l = 1 #振子の長さ\n",
    "\n",
    "nu = 1 #制御変数の次元\n",
    "nx = 4 #状態変数の次元\n",
    "\n",
    "# コスト関数の重み\n",
    "Q = casadi.diag([2.5,10,0.01,0.01])\n",
    "Q_f = casadi.diag([2.5,10,0.01,0.01])\n",
    "R = casadi.diag([0.1])\n",
    "\n",
    "# 予測ホライズン等\n",
    "T = 1\n",
    "K = 20\n",
    "dt = T/K\n",
    "\n",
    "# 制約条件\n",
    "x_lb = [-np.inf,-np.inf,-np.inf,-np.inf]\n",
    "x_ub = [np.inf,np.inf,np.inf,np.inf]\n",
    "u_lb = [-15]\n",
    "u_ub = [15]\n",
    "\n",
    "# 目標値\n",
    "x_ref = casadi.DM([0,0,0,0])\n",
    "u_ref = casadi.DM([0])\n",
    "\n",
    "total = nx*(K+1) + nu*K #最適化変数の次元"
   ]
  },
  {
   "cell_type": "markdown",
   "metadata": {},
   "source": [
    "# 状態方程式・積分器・コスト関数"
   ]
  },
  {
   "cell_type": "code",
   "execution_count": 3,
   "metadata": {},
   "outputs": [],
   "source": [
    "def make_f():\n",
    "    states = casadi.SX.sym(\"states\",nx)\n",
    "    ctrls = casadi.SX.sym(\"ctrls\",nu)\n",
    "\n",
    "    x = states[0]\n",
    "    theta = states[1]\n",
    "    x_dot = states[2]\n",
    "    theta_dot = states[3]\n",
    "    F = ctrls[0]\n",
    "\n",
    "    sin = casadi.sin(theta)\n",
    "    cos = casadi.cos(theta)\n",
    "    det = M+m*sin**2\n",
    "\n",
    "    x_ddot = (-m*l*sin*theta_dot**2+m*g*sin*cos+F)/det\n",
    "    theta_ddot = (-m*l*sin*cos*theta_dot**2+(M+m)*g*sin+F*cos)/(l*det)\n",
    "\n",
    "    states_dot = casadi.vertcat(x_dot,theta_dot,x_ddot,theta_ddot)\n",
    "\n",
    "    f = casadi.Function(\"f\",[states,ctrls],[states_dot],['x','u'],['x_dot'])\n",
    "    return f\n",
    "\n",
    "def make_F_RK4():\n",
    "    states = casadi.SX.sym(\"states\",nx)\n",
    "    ctrls = casadi.SX.sym(\"ctrls\",nu)\n",
    "\n",
    "    f = make_f()\n",
    "\n",
    "    r1 = f(x=states,u=ctrls)[\"x_dot\"]\n",
    "    r2 = f(x=states+dt*r1/2,u=ctrls)[\"x_dot\"]\n",
    "    r3 = f(x=states+dt*r2/2,u=ctrls)[\"x_dot\"]\n",
    "    r4 = f(x=states+dt*r3,u=ctrls)[\"x_dot\"]\n",
    "\n",
    "    states_next = states + dt*(r1+2*r2+2*r3+r4)/6\n",
    "\n",
    "    F_RK4 = casadi.Function(\"F_RK4\",[states,ctrls],[states_next],[\"x\",\"u\"],[\"x_next\"])\n",
    "    return F_RK4\n",
    "\n",
    "def make_integrator():\n",
    "    states = casadi.SX.sym(\"states\",nx)\n",
    "    ctrls = casadi.SX.sym(\"ctrls\",nu)\n",
    "\n",
    "    f = make_f()\n",
    "    ode = f(x=states, u=ctrls)[\"x_dot\"]\n",
    "\n",
    "    dae = {\"x\":states,\"p\":ctrls,\"ode\":ode}\n",
    "\n",
    "    I = casadi.integrator(\"I\",\"cvodes\",dae,0,dt)\n",
    "    return I\n",
    "\n",
    "def compute_stage_cost(x,u):\n",
    "    x_diff = x - x_ref\n",
    "    u_diff = u - u_ref\n",
    "    cost = (casadi.dot(Q@x_diff,x_diff) + casadi.dot(R@u_diff,u_diff)) / 2\n",
    "    return cost\n",
    "\n",
    "def compute_terminal_cost(x):\n",
    "    x_diff = x - x_ref\n",
    "    cost = casadi.dot(Q_f@x_diff,x_diff) / 2\n",
    "    return cost"
   ]
  },
  {
   "cell_type": "markdown",
   "metadata": {},
   "source": [
    "# 最適化問題"
   ]
  },
  {
   "cell_type": "code",
   "execution_count": 4,
   "metadata": {},
   "outputs": [],
   "source": [
    "def make_nlp():\n",
    "    F_RK4 = make_F_RK4()\n",
    "\n",
    "    U = [casadi.SX.sym(f\"u_{k}\",nu) for k in range(K)]\n",
    "    X = [casadi.SX.sym(f\"x_{k}\",nx) for k in range(K+1)]\n",
    "    W = []\n",
    "    G = []\n",
    "    P = []\n",
    "    equality = []\n",
    "\n",
    "    J = 0\n",
    "\n",
    "    X0 = casadi.SX.sym(\"X0\",nx)\n",
    "    P.append(X0)\n",
    "    eq = X[0] - X0\n",
    "    G.append(eq)\n",
    "    equality += [True]*nx\n",
    "\n",
    "    for k in range(K):\n",
    "        W.append(X[k])\n",
    "        W.append(U[k])\n",
    "        J += compute_stage_cost(X[k],U[k]) * dt\n",
    "        eq = X[k+1] - F_RK4(x=X[k],u=U[k])[\"x_next\"]\n",
    "        G.append(eq)\n",
    "        equality += [True]*nx\n",
    "\n",
    "    W.append(X[-1])\n",
    "    J += compute_terminal_cost(X[-1])    \n",
    "\n",
    "    # nlp = {\"x\":casadi.vertcat(*X, *U),\"f\":J,\"g\":casadi.vertcat(*G),\"p\":casadi.vertcat(*P)} # casadi本初版の決定変数順\n",
    "    nlp = {\"x\":casadi.vertcat(*W),\"f\":J,\"g\":casadi.vertcat(*G),\"p\":casadi.vertcat(*P)} # fatrop用に書き換えた決定変数順\n",
    "    \n",
    "    # solver_name=\"ipopt\"\n",
    "    solver_name=\"fatrop\"\n",
    "\n",
    "    if solver_name==\"ipopt\":\n",
    "        # option = {'print_time':False,'ipopt':{'max_iter':10,'print_level':0}}\n",
    "        option = {'print_time':False,'ipopt':{'print_level':0}}\n",
    "        S = casadi.nlpsol(\"S\",\"ipopt\",nlp,option)\n",
    "    if solver_name==\"fatrop\":\n",
    "        option = {}\n",
    "        option[\"print_time\"] = False\n",
    "        option[\"expand\"] = True\n",
    "        option[\"fatrop\"] = {# \"mu_init\": 0.1, \n",
    "                            'print_level':0}\n",
    "        option[\"structure_detection\"] = \"auto\"\n",
    "        # option[\"debug\"] = True\n",
    "        option[\"equality\"] = equality\n",
    "        \n",
    "        S = casadi.nlpsol(\"S\",\"fatrop\",nlp,option)\n",
    "\n",
    "    print(\"option:\",option)\n",
    "    return S"
   ]
  },
  {
   "cell_type": "markdown",
   "metadata": {},
   "source": [
    "# 制御入力の計算"
   ]
  },
  {
   "cell_type": "code",
   "execution_count": 5,
   "metadata": {},
   "outputs": [],
   "source": [
    "# # casadi本初版の決定変数順（注：初期状態をパラメータ化したので等式制約が増えている）\n",
    "# def compute_optimal_control(S,x_init,x0):\n",
    "#     x_init = x_init.full().ravel().tolist()\n",
    "    \n",
    "#     lbx = x_lb*(K+1) + u_lb*K\n",
    "#     ubx = x_ub*(K+1) + u_ub*K\n",
    "#     lbg = [0]*nx*(K+1)\n",
    "#     ubg = [0]*nx*(K+1)\n",
    "\n",
    "#     res = S(lbx=lbx,ubx=ubx,lbg=lbg,ubg=ubg,x0=x0, p=x_init)\n",
    "\n",
    "#     offset = nx*(K+1)\n",
    "#     x0 = res[\"x\"]\n",
    "#     u_opt = x0[offset:offset+nu]\n",
    "#     return u_opt, x0\n",
    "\n",
    "# fatrop用に書き換えた決定変数順\n",
    "def compute_optimal_control(S,x_init,x0):\n",
    "    x_init = x_init.full().ravel().tolist()\n",
    "    \n",
    "    lbx = (x_lb+u_lb)*K+x_lb\n",
    "    ubx = (x_ub+u_ub)*K+x_ub\n",
    "    lbg = [0]*nx*(K+1)\n",
    "    ubg = [0]*nx*(K+1)\n",
    "\n",
    "    res = S(lbx=lbx,ubx=ubx,lbg=lbg,ubg=ubg,x0=x0, p=x_init)\n",
    "    \n",
    "    x0 = res[\"x\"]\n",
    "    u_opt = x0[nx:nx+nu]\n",
    "    return u_opt, x0"
   ]
  },
  {
   "cell_type": "markdown",
   "metadata": {},
   "source": [
    "# MPC"
   ]
  },
  {
   "cell_type": "code",
   "execution_count": 6,
   "metadata": {},
   "outputs": [
    {
     "name": "stdout",
     "output_type": "stream",
     "text": [
      "option: {'print_time': False, 'expand': True, 'fatrop': {'print_level': 0}, 'structure_detection': 'auto', 'equality': [True, True, True, True, True, True, True, True, True, True, True, True, True, True, True, True, True, True, True, True, True, True, True, True, True, True, True, True, True, True, True, True, True, True, True, True, True, True, True, True, True, True, True, True, True, True, True, True, True, True, True, True, True, True, True, True, True, True, True, True, True, True, True, True, True, True, True, True, True, True, True, True, True, True, True, True, True, True, True, True, True, True, True, True]}\n"
     ]
    }
   ],
   "source": [
    "S = make_nlp()"
   ]
  },
  {
   "cell_type": "code",
   "execution_count": 7,
   "metadata": {},
   "outputs": [],
   "source": [
    "t_span = [0,10]\n",
    "t_eval = np.arange(*t_span,dt)\n",
    "\n",
    "x_init = casadi.DM([0,np.pi,0,0]) # 初期値\n",
    "x0 = casadi.DM.zeros(total)\n",
    "\n",
    "I = make_integrator()\n",
    "\n",
    "X = [x_init]\n",
    "U = []\n",
    "x_current = x_init\n",
    "for t in t_eval:\n",
    "    u_opt,x0 = compute_optimal_control(S,x_current,x0)\n",
    "    x_current = I(x0=x_current,p=u_opt)[\"xf\"]\n",
    "    X.append(x_current)\n",
    "    U.append(u_opt)"
   ]
  },
  {
   "cell_type": "markdown",
   "metadata": {},
   "source": [
    "# 結果の可視化"
   ]
  },
  {
   "cell_type": "code",
   "execution_count": 8,
   "metadata": {},
   "outputs": [
    {
     "data": {
      "image/png": "[encoded data removed]",
      "text/plain": [
       "<Figure size 1200x400 with 2 Axes>"
      ]
     },
     "metadata": {},
     "output_type": "display_data"
    }
   ],
   "source": [
    "X.pop()\n",
    "X = np.array(X).reshape(t_eval.size,nx)\n",
    "U = np.array(U).reshape(t_eval.size,nu)\n",
    "\n",
    "plt.figure(figsize=(12,4))\n",
    "\n",
    "plt.subplot(1,2,1)\n",
    "for k in range(nx):\n",
    "    plt.plot(t_eval,X[:,k],label=f\"x_{k}\")\n",
    "plt.legend()\n",
    "plt.xlabel(\"Time\")\n",
    "plt.ylabel(\"State\")\n",
    "\n",
    "plt.subplot(1,2,2)\n",
    "for k in range(nu):\n",
    "    plt.step(t_eval,U[:,k],linestyle=\"--\",label=f\"u_{k}\")\n",
    "plt.legend()\n",
    "plt.xlabel(\"Time\")\n",
    "plt.ylabel(\"Control\")\n",
    "\n",
    "plt.savefig(\"images/chap5_mpc.png\")\n",
    "plt.show()"
   ]
  },
  {
   "cell_type": "markdown",
   "metadata": {},
   "source": [
    "# アニメーションの作成"
   ]
  },
  {
   "cell_type": "code",
   "execution_count": 9,
   "metadata": {},
   "outputs": [
    {
     "data": {
      "image/png": "[encoded data removed]",
      "text/plain": [
       "<Figure size 1200x600 with 1 Axes>"
      ]
     },
     "metadata": {},
     "output_type": "display_data"
    }
   ],
   "source": [
    "fig = plt.figure(figsize=(12,6))\n",
    "ax = fig.add_subplot(111)\n",
    "frames = np.arange(0,t_eval.size)\n",
    "fps = 1 / dt\n",
    "\n",
    "def update_figure(i):\n",
    "    x_lim_min = -4\n",
    "    x_lim_max = 4\n",
    "    y_lim_min = -2\n",
    "    y_lim_max = 2\n",
    "    u_scale = 15\n",
    "\n",
    "    ax.cla()\n",
    "    ax.set_xlim(x_lim_min, x_lim_max)\n",
    "    ax.set_ylim(y_lim_min, y_lim_max)\n",
    "    ax.set_aspect(\"equal\")\n",
    "    ax.set_title(f\"t={t_eval[i]:0.2f}\")\n",
    "\n",
    "    x,theta,_,_ = X[i]\n",
    "    u, = U[i]\n",
    "\n",
    "    points = np.array([\n",
    "        [x,x-l*np.sin(theta)],\n",
    "        [0,l*np.cos(theta)]\n",
    "    ])\n",
    "\n",
    "    ax.hlines(0,x_lim_min,x_lim_max,colors=\"black\")\n",
    "    ax.scatter(*points,color=\"blue\", s=50)\n",
    "    ax.plot(*points, color='blue', lw=2)\n",
    "    ax.arrow(x,0,u/u_scale,0,width=0.02,head_width=0.06,head_length=0.12,length_includes_head=False,color=\"green\",zorder=3)\n",
    "\n",
    "    w = 0.2\n",
    "    h = 0.1\n",
    "    rect = patches.Rectangle(xy=(x-w/2,-h/2), width=w, height=h,color=\"black\")\n",
    "    ax.add_patch(rect)\n",
    "\n",
    "ani = FuncAnimation(fig, update_figure, frames=frames)\n",
    "ani.save(\"images/chap5_cart_pole.gif\",writer=\"pillow\",fps=fps)"
   ]
  },
  {
   "cell_type": "code",
   "execution_count": null,
   "metadata": {},
   "outputs": [],
   "source": []
  },
  {
   "cell_type": "code",
   "execution_count": null,
   "metadata": {},
   "outputs": [],
   "source": []
  },
  {
   "cell_type": "code",
   "execution_count": null,
   "metadata": {},
   "outputs": [],
   "source": []
  },
  {
   "cell_type": "code",
   "execution_count": null,
   "metadata": {},
   "outputs": [],
   "source": []
  },
  {
   "cell_type": "code",
   "execution_count": null,
   "metadata": {},
   "outputs": [],
   "source": []
  },
  {
   "cell_type": "code",
   "execution_count": null,
   "metadata": {},
   "outputs": [],
   "source": []
  },
  {
   "cell_type": "code",
   "execution_count": null,
   "metadata": {},
   "outputs": [],
   "source": []
  },
  {
   "cell_type": "code",
   "execution_count": null,
   "metadata": {},
   "outputs": [],
   "source": []
  },
  {
   "cell_type": "code",
   "execution_count": null,
   "metadata": {},
   "outputs": [],
   "source": []
  },
  {
   "cell_type": "code",
   "execution_count": null,
   "metadata": {},
   "outputs": [],
   "source": []
  },
  {
   "cell_type": "code",
   "execution_count": null,
   "metadata": {},
   "outputs": [],
   "source": []
  },
  {
   "cell_type": "code",
   "execution_count": null,
   "metadata": {},
   "outputs": [],
   "source": []
  }
 ],
 "metadata": {
  "kernelspec": {
   "display_name": "Python 3 (ipykernel)",
   "language": "python",
   "name": "python3"
  },
  "language_info": {
   "codemirror_mode": {
    "name": "ipython",
    "version": 3
   },
   "file_extension": ".py",
   "mimetype": "text/x-python",
   "name": "python",
   "nbconvert_exporter": "python",
   "pygments_lexer": "ipython3",
   "version": "3.10.12"
  }
 },
 "nbformat": 4,
 "nbformat_minor": 4
}
